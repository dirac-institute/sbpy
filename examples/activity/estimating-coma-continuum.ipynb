{
 "cells": [
  {
   "cell_type": "markdown",
   "metadata": {},
   "source": [
    "# Estimating Coma Continuum"
   ]
  },
  {
   "cell_type": "code",
   "execution_count": 1,
   "metadata": {
    "collapsed": false
   },
   "outputs": [
    {
     "ename": "ModuleNotFoundError",
     "evalue": "No module named 'mskpy'",
     "output_type": "error",
     "traceback": [
      "\u001b[0;31m---------------------------------------------------------------------------\u001b[0m",
      "\u001b[0;31mModuleNotFoundError\u001b[0m                       Traceback (most recent call last)",
      "\u001b[1;32m/Users/butterchicken/Desktop/LSST/sbpy/examples/activity/estimating-coma-continuum.ipynb Cell 2'\u001b[0m in \u001b[0;36m<module>\u001b[0;34m\u001b[0m\n\u001b[1;32m      <a href='vscode-notebook-cell:/Users/butterchicken/Desktop/LSST/sbpy/examples/activity/estimating-coma-continuum.ipynb#ch0000001?line=3'>4</a>\u001b[0m \u001b[39mimport\u001b[39;00m \u001b[39mastropy\u001b[39;00m\u001b[39m.\u001b[39;00m\u001b[39mconstants\u001b[39;00m \u001b[39mas\u001b[39;00m \u001b[39mconst\u001b[39;00m\n\u001b[1;32m      <a href='vscode-notebook-cell:/Users/butterchicken/Desktop/LSST/sbpy/examples/activity/estimating-coma-continuum.ipynb#ch0000001?line=4'>5</a>\u001b[0m \u001b[39mfrom\u001b[39;00m \u001b[39msbpy\u001b[39;00m\u001b[39m.\u001b[39;00m\u001b[39mactivity\u001b[39;00m \u001b[39mimport\u001b[39;00m Afrho, Efrho\n\u001b[0;32m----> <a href='vscode-notebook-cell:/Users/butterchicken/Desktop/LSST/sbpy/examples/activity/estimating-coma-continuum.ipynb#ch0000001?line=5'>6</a>\u001b[0m \u001b[39mfrom\u001b[39;00m \u001b[39mmskpy\u001b[39;00m\u001b[39m.\u001b[39;00m\u001b[39mcalib\u001b[39;00m \u001b[39mimport\u001b[39;00m solar_flux\n\u001b[1;32m      <a href='vscode-notebook-cell:/Users/butterchicken/Desktop/LSST/sbpy/examples/activity/estimating-coma-continuum.ipynb#ch0000001?line=6'>7</a>\u001b[0m get_ipython()\u001b[39m.\u001b[39mrun_line_magic(\u001b[39m'\u001b[39m\u001b[39m'\u001b[39m, \u001b[39m'\u001b[39m\u001b[39mmatplotlib notebook\u001b[39m\u001b[39m'\u001b[39m)\n\u001b[1;32m      <a href='vscode-notebook-cell:/Users/butterchicken/Desktop/LSST/sbpy/examples/activity/estimating-coma-continuum.ipynb#ch0000001?line=8'>9</a>\u001b[0m afrho \u001b[39m=\u001b[39m Afrho(\u001b[39m5000\u001b[39m \u001b[39m*\u001b[39m u\u001b[39m.\u001b[39mcm)\n",
      "\u001b[0;31mModuleNotFoundError\u001b[0m: No module named 'mskpy'"
     ]
    }
   ],
   "source": [
    "import numpy as np\n",
    "import matplotlib.pyplot as plt\n",
    "import astropy.units as u\n",
    "import astropy.constants as const\n",
    "from sbpy.activity import Afrho, Efrho\n",
    "from mskpy.calib import solar_flux\n",
    "% matplotlib notebook\n",
    "\n",
    "afrho = Afrho(5000 * u.cm)\n",
    "efrho = Efrho(afrho * 3.5)\n",
    "\n",
    "# eph = Ephem.from_horizons(...)\n",
    "eph = {'rh': 2.6 * u.au, 'delta': 3.0 * u.au, 'phase': 54 * u.deg}\n",
    "\n",
    "wave = np.logspace(-0.3, 1.5, 1000) * u.um\n",
    "nu = const.c / wave\n",
    "aper = 1 * u.arcsec\n",
    "\n",
    "S = solar_flux(wave, unit='Jy', smooth=False)\n",
    "\n",
    "fsca = afrho.fluxd(nu, aper, eph, phasecor=True, S=S)\n",
    "fth = efrho.fluxd(nu, aper, eph)\n",
    "\n",
    "plt.clf()\n",
    "plt.plot(wave, fsca, label='Scattered')\n",
    "plt.plot(wave, fth, label='Thermal')\n",
    "plt.plot(wave, (fsca + fth), label='Total')\n",
    "plt.setp(plt.gca(), xlabel='Wavelength (μm)', ylabel='$F_ν$ (Jy)', xscale='log', yscale='log', ylim=[1e-4, 1])\n",
    "plt.tight_layout()\n",
    "plt.draw()"
   ]
  }
 ],
 "metadata": {
  "kernelspec": {
   "display_name": "Python 3",
   "language": "python",
   "name": "python3"
  },
  "language_info": {
   "codemirror_mode": {
    "name": "ipython",
    "version": 3
   },
   "file_extension": ".py",
   "mimetype": "text/x-python",
   "name": "python",
   "nbconvert_exporter": "python",
   "pygments_lexer": "ipython3",
   "version": "3.8.12"
  }
 },
 "nbformat": 4,
 "nbformat_minor": 2
}
